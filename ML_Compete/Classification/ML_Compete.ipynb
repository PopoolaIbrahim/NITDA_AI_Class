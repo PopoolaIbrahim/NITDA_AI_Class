{
  "nbformat": 4,
  "nbformat_minor": 0,
  "metadata": {
    "colab": {
      "provenance": []
    },
    "kernelspec": {
      "name": "python3",
      "display_name": "Python 3"
    },
    "language_info": {
      "name": "python"
    }
  },
  "cells": [
    {
      "cell_type": "markdown",
      "source": [
        "## **Problem Statement**\n",
        "\n",
        "\n",
        "Financial inclusion remains one of the main obstacles to economic and human development in Africa. For example, across Kenya, Rwanda, Tanzania, and Uganda only 9.1 million adults (or 14% of adults) have access to or use a commercial bank account.\n",
        "\n",
        "Traditionally, access to bank accounts has been regarded as an indicator of financial inclusion. Despite the proliferation of mobile money in Africa, and the growth of innovative fintech solutions, banks still play a pivotal role in facilitating access to financial services. Access to bank accounts enable households to save and make payments while also helping businesses build up their credit-worthiness and improve their access to loans, insurance, and related services. Therefore, access to bank accounts is an essential contributor to long-term economic growth.\n",
        "\n",
        "The objective of this competition is to create a machine learning model to predict which individuals are most likely to have or use a bank account. The models and solutions developed can provide an indication of the state of financial inclusion in Kenya, Rwanda, Tanzania and Uganda, while providing insights into some of the key factors driving individuals’ financial security."
      ],
      "metadata": {
        "id": "wNvnsrRKp1k8"
      }
    },
    {
      "cell_type": "markdown",
      "source": [
        "## **Evaluation**\n",
        "The evaluation metric for this challenge is `Mean Absolute error`, where 1 indicates that the individual does have a bank account and 0 indicates that they do not."
      ],
      "metadata": {
        "id": "xrWCZ1rlqFZU"
      }
    },
    {
      "cell_type": "markdown",
      "source": [
        "## **DATA**\n",
        "\n",
        "- **Train.csv:** contains the data to be used\n",
        "\n",
        "- **VariableDefinition.csv**:Full list of variables and their explanations."
      ],
      "metadata": {
        "id": "DG_A60UGqSoj"
      }
    },
    {
      "cell_type": "code",
      "execution_count": null,
      "metadata": {
        "id": "EIH13Fnup0ND"
      },
      "outputs": [],
      "source": []
    }
  ]
}