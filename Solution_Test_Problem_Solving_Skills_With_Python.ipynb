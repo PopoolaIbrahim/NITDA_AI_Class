{
  "nbformat": 4,
  "nbformat_minor": 0,
  "metadata": {
    "colab": {
      "provenance": []
    },
    "kernelspec": {
      "name": "python3",
      "display_name": "Python 3"
    },
    "language_info": {
      "name": "python"
    }
  },
  "cells": [
    {
      "cell_type": "markdown",
      "source": [
        "## Challenge One: Read RNA Code\n",
        "\n",
        "Proteins are the building blocks of life. The process starts when another protein (a polymerase) reads your genetic code and performs transcription, the code (RNA) for making protein. Ribosomes will then attach to this RNA code to begin making specific proteins. Your genetic code is made up of pairs of nucleotides. Once transcribed into the code, these nucleotides contain the following nucleotides:\n",
        "\n",
        "U,G,A,C.\n",
        "\n",
        "UGA, UAA, and UAG are stop codons and AUG is a start codon so that the protein ,ribosome, can identify where to stop and start the protein formation.\n",
        " \n",
        "A genetics lab has tasked you to design a function which recognises the length of the RNA code (excluding the start and stop codons). The function must also determine if there code is actually a valid piece of code (must contain AUG as a start codon and UGA, UAA, or UAG at the end).\n",
        "\n",
        "Note: RNA starts with a start codon AUG and ends with UGA, UAA, or UAG \n",
        "\n",
        "The function must return \"Not readable RNA code\" if the above conditions are not met."
      ],
      "metadata": {
        "id": "CHyy1gp8dDeU"
      }
    },
    {
      "cell_type": "code",
      "execution_count": 34,
      "metadata": {
        "id": "qQ07NR-xb3GK"
      },
      "outputs": [],
      "source": [
        "def rna_length(mrna):\n",
        "  # Check if the RNA Code start with AUG codon\n",
        "  if mrna[:3] == \"AUG\":\n",
        "    # Check if the RNA Code stop with \"UGA\", \"UAA\", \"UAG\" codon\n",
        "    if mrna[-3:] in {\"UGA\", \"UAA\", \"UAG\"} :\n",
        "      # calculate the lenght of the RNA code excluding the start and stop codons\n",
        "      print(len(mrna[3:-3]))\n",
        "    else :\n",
        "      print(\"Not readable RNA code\")\n",
        "  else :\n",
        "    print(\"Not readable RNA code\")\n",
        "  #your code here\n",
        "  "
      ]
    },
    {
      "cell_type": "code",
      "source": [
        "rna_length('AUGAGGCACCUUCUGCUCCUUAC')"
      ],
      "metadata": {
        "id": "iR9A_iIy27HB",
        "outputId": "0c487116-ccd1-4006-8e66-555d79e593e5",
        "colab": {
          "base_uri": "https://localhost:8080/"
        }
      },
      "execution_count": 56,
      "outputs": [
        {
          "output_type": "stream",
          "name": "stdout",
          "text": [
            "Not readable RNA code\n"
          ]
        }
      ]
    },
    {
      "cell_type": "markdown",
      "source": [
        "_**Expected Outputs**_ \n",
        "\n",
        "```python\n",
        "rna_length('AUGUAGCAUAA') == 5\n",
        "rna_length('AUGUUAUAG') == 3\n",
        "rna_length('AUGUAGGCACAUUUAUGCUCCUGA') == 18\n",
        "rna_length('AUGAGGCACCUUCUGCUCCUUAC') == \"Not readable RNA code\"\n",
        "```"
      ],
      "metadata": {
        "id": "zj8o3z_Pdi0H"
      }
    },
    {
      "cell_type": "markdown",
      "source": [
        "# Challenge Two: Complementary DNA Strands"
      ],
      "metadata": {
        "id": "6_3aYo2od-HW"
      }
    },
    {
      "cell_type": "markdown",
      "source": [
        "In coding challenge 1, you were introduced to RNA synthesis. DNA differs from RNA because RNA is one strand compared to DNA which is double stranded.It also differs in that instead of the U nucleotide, it contains a T. Below is an example of the different structures taken from: https://byjus.com/biology/difference-between-dna-and-rna/:\n",
        "\n",
        "The same lab was extremely impressed with the first code and now wants a new one. They want to find the complementary strands of DNA. Here is the low-down:\n",
        "\n",
        "A links with T and vice versa\n",
        "C links with G and vice versa\n",
        "An example of the complementary strand for the code ATCGGAATGCC is TAGCCTTACGG\n",
        "\n",
        "You are tasked to create a function dna_complementary which finds the complementary strand for a given DNA strand based on the above criteria. The function must return a string of the code\n",
        "\n",
        "This kind of code can be really helpful as a product. Imagine trying to get DNA strands for thousands of sequences which are thousands of nucleotides long. This is the power of python and coding!\n",
        "\n",
        "**Hint**: You didn't learn dictionaries for nothing"
      ],
      "metadata": {
        "id": "4llpVmCOeTgI"
      }
    },
    {
      "cell_type": "code",
      "source": [
        "from IPython.display import Image\n",
        "from IPython.core.display import HTML \n",
        "Image(url = 'https://github.com/Explore-AI/Pictures/blob/master/Difference-Between-DNA-and-RNA.png?raw=true')"
      ],
      "metadata": {
        "colab": {
          "base_uri": "https://localhost:8080/",
          "height": 544
        },
        "id": "Mfl-MTITdjRE",
        "outputId": "51717671-7184-4902-8aa1-d8b1bbcbdbee"
      },
      "execution_count": null,
      "outputs": [
        {
          "output_type": "execute_result",
          "data": {
            "text/html": [
              "<img src=\"https://github.com/Explore-AI/Pictures/blob/master/Difference-Between-DNA-and-RNA.png?raw=true\"/>"
            ],
            "text/plain": [
              "<IPython.core.display.Image object>"
            ]
          },
          "metadata": {},
          "execution_count": 2
        }
      ]
    },
    {
      "cell_type": "code",
      "source": [
        "def dna_complementary(dna):\n",
        "  dna_result =\" \"\n",
        "  for item in dna :\n",
        "    if item == \"A\" :\n",
        "      dna_result = dna_result + \"T\"\n",
        "    if item == \"T\" :\n",
        "      dna_result = dna_result + \"A\"\n",
        "    if item == \"C\" :\n",
        "      dna_result = dna_result + \"G\"\n",
        "    if item == \"G\" :\n",
        "      dna_result = dna_result + \"C\"  \n",
        "  return print(dna_result)"
      ],
      "metadata": {
        "id": "Cg4MhgwtefXN"
      },
      "execution_count": 53,
      "outputs": []
    },
    {
      "cell_type": "code",
      "source": [
        "dna_complementary('ATCTTATAATTACCGAGTCGATCGG')"
      ],
      "metadata": {
        "id": "2lcrJv4ee0dV",
        "outputId": "ebb8d09e-8fd6-46a5-933d-a64e2a3ebede",
        "colab": {
          "base_uri": "https://localhost:8080/"
        }
      },
      "execution_count": 57,
      "outputs": [
        {
          "output_type": "stream",
          "name": "stdout",
          "text": [
            " TAGAATATTAATGGCTCAGCTAGCC\n"
          ]
        }
      ]
    },
    {
      "cell_type": "markdown",
      "source": [
        "_**Expected Outputs**_ \n",
        "```python\n",
        "dna_complementary('ATCGGAATGCC') == 'TAGCCTTACGG'\n",
        "dna_complementary('TCCCGGATCGCATACGAT') == 'AGGGCCTAGCGTATGCTA'\n",
        "dna_complementary('ATCTTATAATTACCGAGTCGATCGG') == 'TAGAATATTAATGGCTCAGCTAGCC'\n",
        "dna_complementary('ATCGGACTACGA') == 'TAGCCTGATGCT'\n",
        "```"
      ],
      "metadata": {
        "id": "FU5LQ78Iezdc"
      }
    }
  ]
}