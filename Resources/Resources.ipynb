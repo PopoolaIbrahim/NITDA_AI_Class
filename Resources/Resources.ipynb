{
  "nbformat": 4,
  "nbformat_minor": 0,
  "metadata": {
    "colab": {
      "provenance": []
    },
    "kernelspec": {
      "name": "python3",
      "display_name": "Python 3"
    },
    "language_info": {
      "name": "python"
    }
  },
  "cells": [
    {
      "cell_type": "markdown",
      "source": [
        "## **Data Analysis**"
      ],
      "metadata": {
        "id": "87aE9d2LRltB"
      }
    },
    {
      "cell_type": "markdown",
      "source": [
        "- **Data Analyst Bootcamp** [Link](https://www.youtube.com/playlist?list=PLUaB-1hjhk8FE_XZ87vPPSfHqb6OcM0cF)\n",
        "\n",
        "- **Google Advance Data Analytics** [Link](https://www.coursera.org/professional-certificates/google-advanced-data-analytics)\n",
        "\n",
        "- **Book:** **Data Preparation for Machine Learning** (Check GitHub)"
      ],
      "metadata": {
        "id": "VPPAMgurSWlD"
      }
    },
    {
      "cell_type": "markdown",
      "source": [
        "## **Machine Learning**"
      ],
      "metadata": {
        "id": "y9QjxHzSRq7f"
      }
    },
    {
      "cell_type": "markdown",
      "source": [
        "- **Machine Learning Specialization** [Link](https://www.coursera.org/specializations/machine-learning-introduction)\n",
        "\n",
        "- **Mastering Machine Learning with Python in Six Steps (Book)**\n",
        "\n",
        "- **Machine Learning With PyTorch and Scikit-Learn (Book)**"
      ],
      "metadata": {
        "id": "Rc0vroe9TeRy"
      }
    },
    {
      "cell_type": "markdown",
      "source": [
        "## **Deep Learning**"
      ],
      "metadata": {
        "id": "HAhbGlO3RwKu"
      }
    },
    {
      "cell_type": "markdown",
      "source": [
        "- **FastAI: Practical Deep Learning for Coders** [Link](https://course.fast.ai/)\n",
        "\n",
        "- **Deep Learning Specialization** [Link](https://www.coursera.org/specializations/deep-learning)"
      ],
      "metadata": {
        "id": "zciXyANBWC5x"
      }
    },
    {
      "cell_type": "markdown",
      "source": [
        "## **Projects**"
      ],
      "metadata": {
        "id": "698YH_FfYtlM"
      }
    },
    {
      "cell_type": "markdown",
      "source": [
        "- **Zindi (A good place to start)** [Link](https://zindi.africa/competitions)\n",
        "\n",
        "- **Kaggle** [Link](https://www.kaggle.com/competitions)\n",
        "\n",
        "- **Omdena Real Life Projects** [Link](https://www.youtube.com/watch?v=Rn0LyHJujF4)"
      ],
      "metadata": {
        "id": "qv1ZCyKFYwtL"
      }
    },
    {
      "cell_type": "markdown",
      "source": [
        "## **Internships**"
      ],
      "metadata": {
        "id": "P2qpt-XxRz8Q"
      }
    },
    {
      "cell_type": "markdown",
      "source": [
        "- **Forage Virtual Work Experience Programs** [Link](https://www.theforage.com/course-catalog/4sLyCPgmsy8DA6Dh3/PwC?ref=qB6MqAt34wexXXPEB)\n",
        "\n",
        "- **ExploreAI Academy** [Link](https://interest.explore.ai) "
      ],
      "metadata": {
        "id": "LDWH_-Y-W2qp"
      }
    },
    {
      "cell_type": "markdown",
      "source": [
        "## **Portfolio**"
      ],
      "metadata": {
        "id": "VCUk_ysKSD06"
      }
    },
    {
      "cell_type": "markdown",
      "source": [
        "- **Build your portfolio for free** [Link](https://youtu.be/ocdwh0KYeUs)\n",
        "\n",
        "- **Write Blog Posts** [Link](https://www.youtube.com/watch?v=oGNN1hTebyI)"
      ],
      "metadata": {
        "id": "z0rgLsfbZc0z"
      }
    }
  ]
}